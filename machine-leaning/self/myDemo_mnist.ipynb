{
 "cells": [
  {
   "cell_type": "code",
   "execution_count": 2,
   "metadata": {},
   "outputs": [],
   "source": [
    "import keras\n",
    "from keras import layers\n",
    "import matplotlib.pyplot as plt\n",
    "%matplotlib inline"
   ]
  },
  {
   "cell_type": "code",
   "execution_count": 3,
   "metadata": {},
   "outputs": [],
   "source": [
    "import keras.datasets.mnist as mnist"
   ]
  },
  {
   "cell_type": "code",
   "execution_count": 4,
   "metadata": {},
   "outputs": [
    {
     "name": "stdout",
     "output_type": "stream",
     "text": [
      "Downloading data from https://s3.amazonaws.com/img-datasets/mnist.npz\n",
      "11493376/11490434 [==============================] - 12s 1us/step\n"
     ]
    }
   ],
   "source": [
    "(train_image,train_label),(test_image,test_label) = mnist.load_data()#下载mnist手写数据集"
   ]
  },
  {
   "cell_type": "code",
   "execution_count": 10,
   "metadata": {},
   "outputs": [
    {
     "data": {
      "text/plain": [
       "(60000, 28, 28)"
      ]
     },
     "execution_count": 10,
     "metadata": {},
     "output_type": "execute_result"
    }
   ],
   "source": [
    "train_image.shape#60000个样本，每个样本28*28"
   ]
  },
  {
   "cell_type": "code",
   "execution_count": 8,
   "metadata": {},
   "outputs": [
    {
     "data": {
      "text/plain": [
       "<matplotlib.image.AxesImage at 0x2374e08ac48>"
      ]
     },
     "execution_count": 8,
     "metadata": {},
     "output_type": "execute_result"
    },
    {
     "data": {
      "image/png": "[encoded data removed]",
      "text/plain": [
       "<Figure size 432x288 with 1 Axes>"
      ]
     },
     "metadata": {
      "needs_background": "light"
     },
     "output_type": "display_data"
    }
   ],
   "source": [
    "plt.imshow(train_image[1])#绘制图片,使用切片-第2张"
   ]
  },
  {
   "cell_type": "code",
   "execution_count": 11,
   "metadata": {},
   "outputs": [
    {
     "data": {
      "text/plain": [
       "0"
      ]
     },
     "execution_count": 11,
     "metadata": {},
     "output_type": "execute_result"
    }
   ],
   "source": [
    "train_label[1]"
   ]
  },
  {
   "cell_type": "code",
   "execution_count": 12,
   "metadata": {},
   "outputs": [],
   "source": [
    "model = keras.Sequential()\n",
    "model.add(layers.Flatten())#把它展平成二维的形式(60000,28,28)->(60000,28*28)\n",
    "model.add(layers.Dense(64,activation='relu'))\n",
    "model.add(layers.Dense(64,activation='softmax'))"
   ]
  },
  {
   "cell_type": "code",
   "execution_count": 14,
   "metadata": {},
   "outputs": [],
   "source": [
    "model.compile(optimizer='adam',loss='sparse_categorical_crossentropy',metrics=['acc'])"
   ]
  },
  {
   "cell_type": "code",
   "execution_count": 16,
   "metadata": {},
   "outputs": [
    {
     "name": "stdout",
     "output_type": "stream",
     "text": [
      "Epoch 1/50\n",
      "60000/60000 [==============================] - 1s 16us/step - loss: 11.2957 - acc: 0.7407\n",
      "Epoch 2/50\n",
      "60000/60000 [==============================] - 1s 10us/step - loss: 1.5983 - acc: 0.8623\n",
      "Epoch 3/50\n",
      "60000/60000 [==============================] - 1s 9us/step - loss: 0.9157 - acc: 0.8832\n",
      "Epoch 4/50\n",
      "60000/60000 [==============================] - 1s 9us/step - loss: 0.6157 - acc: 0.8940\n",
      "Epoch 5/50\n",
      "60000/60000 [==============================] - 1s 9us/step - loss: 0.4593 - acc: 0.9069\n",
      "Epoch 6/50\n",
      "60000/60000 [==============================] - 1s 9us/step - loss: 0.3652 - acc: 0.9168\n",
      "Epoch 7/50\n",
      "60000/60000 [==============================] - 1s 9us/step - loss: 0.3090 - acc: 0.9230\n",
      "Epoch 8/50\n",
      "60000/60000 [==============================] - 1s 9us/step - loss: 0.2706 - acc: 0.9295\n",
      "Epoch 9/50\n",
      "60000/60000 [==============================] - 1s 9us/step - loss: 0.2390 - acc: 0.9359\n",
      "Epoch 10/50\n",
      "60000/60000 [==============================] - 1s 10us/step - loss: 0.2170 - acc: 0.9403\n",
      "Epoch 11/50\n",
      "60000/60000 [==============================] - 1s 10us/step - loss: 0.1987 - acc: 0.9439\n",
      "Epoch 12/50\n",
      "60000/60000 [==============================] - 1s 10us/step - loss: 0.1836 - acc: 0.9479\n",
      "Epoch 13/50\n",
      "60000/60000 [==============================] - 1s 10us/step - loss: 0.1703 - acc: 0.9500\n",
      "Epoch 14/50\n",
      "60000/60000 [==============================] - 1s 10us/step - loss: 0.1589 - acc: 0.9541\n",
      "Epoch 15/50\n",
      "60000/60000 [==============================] - 1s 10us/step - loss: 0.1520 - acc: 0.9553\n",
      "Epoch 16/50\n",
      "60000/60000 [==============================] - 1s 10us/step - loss: 0.1420 - acc: 0.9574\n",
      "Epoch 17/50\n",
      "60000/60000 [==============================] - 1s 10us/step - loss: 0.1337 - acc: 0.9600\n",
      "Epoch 18/50\n",
      "60000/60000 [==============================] - 1s 11us/step - loss: 0.1274 - acc: 0.9624\n",
      "Epoch 19/50\n",
      "60000/60000 [==============================] - 1s 10us/step - loss: 0.1219 - acc: 0.9627\n",
      "Epoch 20/50\n",
      "60000/60000 [==============================] - 1s 10us/step - loss: 0.1171 - acc: 0.9639\n",
      "Epoch 21/50\n",
      "60000/60000 [==============================] - 1s 10us/step - loss: 0.1104 - acc: 0.9664\n",
      "Epoch 22/50\n",
      "60000/60000 [==============================] - 1s 10us/step - loss: 0.1063 - acc: 0.9676\n",
      "Epoch 23/50\n",
      "60000/60000 [==============================] - 1s 10us/step - loss: 0.1047 - acc: 0.9681\n",
      "Epoch 24/50\n",
      "60000/60000 [==============================] - 1s 10us/step - loss: 0.1007 - acc: 0.9689\n",
      "Epoch 25/50\n",
      "60000/60000 [==============================] - 1s 10us/step - loss: 0.0955 - acc: 0.9707\n",
      "Epoch 26/50\n",
      "60000/60000 [==============================] - 1s 10us/step - loss: 0.0970 - acc: 0.9699\n",
      "Epoch 27/50\n",
      "60000/60000 [==============================] - 1s 10us/step - loss: 0.0912 - acc: 0.9716\n",
      "Epoch 28/50\n",
      "60000/60000 [==============================] - 1s 10us/step - loss: 0.0871 - acc: 0.9729\n",
      "Epoch 29/50\n",
      "60000/60000 [==============================] - 1s 10us/step - loss: 0.0848 - acc: 0.9742\n",
      "Epoch 30/50\n",
      "60000/60000 [==============================] - 1s 10us/step - loss: 0.0827 - acc: 0.9744\n",
      "Epoch 31/50\n",
      "60000/60000 [==============================] - 1s 10us/step - loss: 0.0822 - acc: 0.9739\n",
      "Epoch 32/50\n",
      "60000/60000 [==============================] - 1s 11us/step - loss: 0.0773 - acc: 0.9760\n",
      "Epoch 33/50\n",
      "60000/60000 [==============================] - 1s 10us/step - loss: 0.0784 - acc: 0.9754\n",
      "Epoch 34/50\n",
      "60000/60000 [==============================] - 1s 10us/step - loss: 0.0798 - acc: 0.9756\n",
      "Epoch 35/50\n",
      "60000/60000 [==============================] - 1s 10us/step - loss: 0.0776 - acc: 0.9754\n",
      "Epoch 36/50\n",
      "60000/60000 [==============================] - 1s 10us/step - loss: 0.0719 - acc: 0.9776\n",
      "Epoch 37/50\n",
      "60000/60000 [==============================] - 1s 10us/step - loss: 0.0703 - acc: 0.9782\n",
      "Epoch 38/50\n",
      "60000/60000 [==============================] - 1s 10us/step - loss: 0.0677 - acc: 0.9791\n",
      "Epoch 39/50\n",
      "60000/60000 [==============================] - 1s 10us/step - loss: 0.0675 - acc: 0.9787\n",
      "Epoch 40/50\n",
      "60000/60000 [==============================] - 1s 10us/step - loss: 0.0680 - acc: 0.9785\n",
      "Epoch 41/50\n",
      "60000/60000 [==============================] - 1s 10us/step - loss: 0.0688 - acc: 0.9788\n",
      "Epoch 42/50\n",
      "60000/60000 [==============================] - 1s 11us/step - loss: 0.0640 - acc: 0.9799\n",
      "Epoch 43/50\n",
      "60000/60000 [==============================] - 1s 12us/step - loss: 0.0631 - acc: 0.9798\n",
      "Epoch 44/50\n",
      "60000/60000 [==============================] - 1s 10us/step - loss: 0.0676 - acc: 0.9785\n",
      "Epoch 45/50\n",
      "60000/60000 [==============================] - 1s 11us/step - loss: 0.0657 - acc: 0.9791\n",
      "Epoch 46/50\n",
      "60000/60000 [==============================] - 1s 11us/step - loss: 0.0590 - acc: 0.9813\n",
      "Epoch 47/50\n",
      "60000/60000 [==============================] - 1s 10us/step - loss: 0.0611 - acc: 0.9805\n",
      "Epoch 48/50\n",
      "60000/60000 [==============================] - 1s 11us/step - loss: 0.0572 - acc: 0.9815\n",
      "Epoch 49/50\n",
      "60000/60000 [==============================] - 1s 11us/step - loss: 0.0550 - acc: 0.9827\n",
      "Epoch 50/50\n",
      "60000/60000 [==============================] - 1s 11us/step - loss: 0.0516 - acc: 0.9840\n"
     ]
    },
    {
     "data": {
      "text/plain": [
       "<keras.callbacks.callbacks.History at 0x2374de4acc8>"
      ]
     },
     "execution_count": 16,
     "metadata": {},
     "output_type": "execute_result"
    }
   ],
   "source": [
    "model.fit(train_image,train_label,epochs=50,batch_size=512)#防止内存爆炸，一批一批地训练(batch)"
   ]
  },
  {
   "cell_type": "code",
   "execution_count": 17,
   "metadata": {},
   "outputs": [
    {
     "name": "stdout",
     "output_type": "stream",
     "text": [
      "10000/10000 [==============================] - 0s 28us/step\n"
     ]
    },
    {
     "data": {
      "text/plain": [
       "[0.27509267677816895, 0.9531999826431274]"
      ]
     },
     "execution_count": 17,
     "metadata": {},
     "output_type": "execute_result"
    }
   ],
   "source": [
    "model.evaluate(test_image,test_label)"
   ]
  },
  {
   "cell_type": "code",
   "execution_count": 18,
   "metadata": {},
   "outputs": [
    {
     "name": "stdout",
     "output_type": "stream",
     "text": [
      "60000/60000 [==============================] - 1s 20us/step\n"
     ]
    },
    {
     "data": {
      "text/plain": [
       "[0.054458064534512234, 0.9824166893959045]"
      ]
     },
     "execution_count": 18,
     "metadata": {},
     "output_type": "execute_result"
    }
   ],
   "source": [
    "model.evaluate(train_image,train_label)"
   ]
  },
  {
   "cell_type": "code",
   "execution_count": 19,
   "metadata": {},
   "outputs": [],
   "source": [
    "import numpy as np"
   ]
  },
  {
   "cell_type": "code",
   "execution_count": 23,
   "metadata": {},
   "outputs": [
    {
     "data": {
      "text/plain": [
       "array([[0.00000000e+00, 1.60697580e-22, 3.38317761e-29, 4.83677734e-14,\n",
       "        3.79075628e-37, 2.90218094e-33, 2.19367263e-35, 1.00000000e+00,\n",
       "        2.61931410e-32, 7.11346792e-16, 0.00000000e+00, 0.00000000e+00,\n",
       "        0.00000000e+00, 0.00000000e+00, 0.00000000e+00, 0.00000000e+00,\n",
       "        0.00000000e+00, 0.00000000e+00, 0.00000000e+00, 0.00000000e+00,\n",
       "        0.00000000e+00, 0.00000000e+00, 0.00000000e+00, 0.00000000e+00,\n",
       "        0.00000000e+00, 0.00000000e+00, 0.00000000e+00, 0.00000000e+00,\n",
       "        0.00000000e+00, 0.00000000e+00, 0.00000000e+00, 0.00000000e+00,\n",
       "        0.00000000e+00, 0.00000000e+00, 0.00000000e+00, 0.00000000e+00,\n",
       "        0.00000000e+00, 0.00000000e+00, 0.00000000e+00, 0.00000000e+00,\n",
       "        0.00000000e+00, 0.00000000e+00, 0.00000000e+00, 0.00000000e+00,\n",
       "        0.00000000e+00, 0.00000000e+00, 0.00000000e+00, 0.00000000e+00,\n",
       "        0.00000000e+00, 0.00000000e+00, 0.00000000e+00, 0.00000000e+00,\n",
       "        0.00000000e+00, 0.00000000e+00, 0.00000000e+00, 0.00000000e+00,\n",
       "        0.00000000e+00, 0.00000000e+00, 0.00000000e+00, 0.00000000e+00,\n",
       "        0.00000000e+00, 0.00000000e+00, 0.00000000e+00, 0.00000000e+00],\n",
       "       [8.01362297e-29, 2.39348602e-12, 1.00000000e+00, 7.35237645e-34,\n",
       "        0.00000000e+00, 2.03153798e-16, 1.07251681e-21, 1.45281580e-32,\n",
       "        9.85919798e-18, 0.00000000e+00, 0.00000000e+00, 0.00000000e+00,\n",
       "        0.00000000e+00, 0.00000000e+00, 0.00000000e+00, 0.00000000e+00,\n",
       "        0.00000000e+00, 0.00000000e+00, 0.00000000e+00, 0.00000000e+00,\n",
       "        0.00000000e+00, 0.00000000e+00, 0.00000000e+00, 0.00000000e+00,\n",
       "        0.00000000e+00, 0.00000000e+00, 0.00000000e+00, 0.00000000e+00,\n",
       "        0.00000000e+00, 0.00000000e+00, 0.00000000e+00, 0.00000000e+00,\n",
       "        0.00000000e+00, 0.00000000e+00, 0.00000000e+00, 0.00000000e+00,\n",
       "        0.00000000e+00, 0.00000000e+00, 0.00000000e+00, 0.00000000e+00,\n",
       "        0.00000000e+00, 0.00000000e+00, 0.00000000e+00, 0.00000000e+00,\n",
       "        0.00000000e+00, 0.00000000e+00, 0.00000000e+00, 0.00000000e+00,\n",
       "        0.00000000e+00, 0.00000000e+00, 0.00000000e+00, 0.00000000e+00,\n",
       "        0.00000000e+00, 0.00000000e+00, 0.00000000e+00, 0.00000000e+00,\n",
       "        0.00000000e+00, 0.00000000e+00, 0.00000000e+00, 0.00000000e+00,\n",
       "        0.00000000e+00, 0.00000000e+00, 0.00000000e+00, 0.00000000e+00],\n",
       "       [2.95960200e-33, 1.00000000e+00, 7.58998976e-27, 3.73573955e-18,\n",
       "        3.70740709e-16, 6.40710709e-20, 1.11107966e-21, 5.53089983e-14,\n",
       "        1.50802934e-17, 7.97753854e-22, 0.00000000e+00, 0.00000000e+00,\n",
       "        0.00000000e+00, 1.18766102e-22, 0.00000000e+00, 2.71177763e-30,\n",
       "        0.00000000e+00, 0.00000000e+00, 0.00000000e+00, 0.00000000e+00,\n",
       "        0.00000000e+00, 0.00000000e+00, 0.00000000e+00, 0.00000000e+00,\n",
       "        0.00000000e+00, 1.15464182e-32, 0.00000000e+00, 0.00000000e+00,\n",
       "        0.00000000e+00, 0.00000000e+00, 0.00000000e+00, 3.34717902e-31,\n",
       "        0.00000000e+00, 8.81216802e-35, 0.00000000e+00, 3.77480049e-35,\n",
       "        0.00000000e+00, 0.00000000e+00, 0.00000000e+00, 0.00000000e+00,\n",
       "        0.00000000e+00, 0.00000000e+00, 0.00000000e+00, 0.00000000e+00,\n",
       "        2.62046545e-23, 3.41860577e-30, 0.00000000e+00, 9.54805289e-28,\n",
       "        0.00000000e+00, 0.00000000e+00, 6.45204678e-33, 5.40705177e-34,\n",
       "        0.00000000e+00, 0.00000000e+00, 1.46570657e-34, 0.00000000e+00,\n",
       "        2.85436961e-30, 0.00000000e+00, 0.00000000e+00, 0.00000000e+00,\n",
       "        0.00000000e+00, 0.00000000e+00, 0.00000000e+00, 0.00000000e+00],\n",
       "       [9.99904633e-01, 4.63108336e-23, 9.15331766e-05, 3.59124119e-11,\n",
       "        4.35455164e-23, 2.09905329e-06, 1.21333301e-07, 1.94319316e-09,\n",
       "        2.96966998e-16, 1.54244003e-06, 0.00000000e+00, 0.00000000e+00,\n",
       "        0.00000000e+00, 0.00000000e+00, 0.00000000e+00, 0.00000000e+00,\n",
       "        0.00000000e+00, 0.00000000e+00, 0.00000000e+00, 0.00000000e+00,\n",
       "        0.00000000e+00, 0.00000000e+00, 0.00000000e+00, 0.00000000e+00,\n",
       "        0.00000000e+00, 0.00000000e+00, 0.00000000e+00, 0.00000000e+00,\n",
       "        0.00000000e+00, 0.00000000e+00, 0.00000000e+00, 0.00000000e+00,\n",
       "        0.00000000e+00, 0.00000000e+00, 0.00000000e+00, 0.00000000e+00,\n",
       "        0.00000000e+00, 0.00000000e+00, 0.00000000e+00, 0.00000000e+00,\n",
       "        0.00000000e+00, 0.00000000e+00, 0.00000000e+00, 0.00000000e+00,\n",
       "        0.00000000e+00, 0.00000000e+00, 0.00000000e+00, 5.90640051e-35,\n",
       "        0.00000000e+00, 0.00000000e+00, 0.00000000e+00, 0.00000000e+00,\n",
       "        0.00000000e+00, 0.00000000e+00, 0.00000000e+00, 0.00000000e+00,\n",
       "        0.00000000e+00, 0.00000000e+00, 0.00000000e+00, 0.00000000e+00,\n",
       "        0.00000000e+00, 0.00000000e+00, 0.00000000e+00, 0.00000000e+00],\n",
       "       [4.68618341e-19, 1.56910287e-23, 1.59420054e-17, 9.48405676e-20,\n",
       "        1.00000000e+00, 1.43926330e-16, 2.16267044e-14, 8.54561921e-10,\n",
       "        7.15401910e-15, 1.04091074e-08, 0.00000000e+00, 0.00000000e+00,\n",
       "        0.00000000e+00, 0.00000000e+00, 0.00000000e+00, 0.00000000e+00,\n",
       "        0.00000000e+00, 0.00000000e+00, 0.00000000e+00, 0.00000000e+00,\n",
       "        0.00000000e+00, 0.00000000e+00, 0.00000000e+00, 0.00000000e+00,\n",
       "        0.00000000e+00, 7.59075490e-24, 0.00000000e+00, 0.00000000e+00,\n",
       "        0.00000000e+00, 0.00000000e+00, 0.00000000e+00, 0.00000000e+00,\n",
       "        0.00000000e+00, 0.00000000e+00, 0.00000000e+00, 0.00000000e+00,\n",
       "        0.00000000e+00, 0.00000000e+00, 4.89466547e-38, 0.00000000e+00,\n",
       "        1.09864185e-29, 0.00000000e+00, 6.27440211e-32, 0.00000000e+00,\n",
       "        0.00000000e+00, 0.00000000e+00, 0.00000000e+00, 0.00000000e+00,\n",
       "        0.00000000e+00, 0.00000000e+00, 0.00000000e+00, 0.00000000e+00,\n",
       "        0.00000000e+00, 0.00000000e+00, 0.00000000e+00, 7.15392564e-33,\n",
       "        0.00000000e+00, 0.00000000e+00, 4.79653702e-37, 3.67666186e-31,\n",
       "        0.00000000e+00, 0.00000000e+00, 0.00000000e+00, 0.00000000e+00],\n",
       "       [6.91307099e-31, 1.00000000e+00, 2.08387907e-28, 3.47564104e-19,\n",
       "        1.11528726e-22, 2.08153681e-19, 3.27599143e-19, 1.12229280e-11,\n",
       "        9.77795416e-19, 8.69806806e-23, 0.00000000e+00, 0.00000000e+00,\n",
       "        0.00000000e+00, 5.67502867e-24, 0.00000000e+00, 6.09652329e-33,\n",
       "        0.00000000e+00, 1.59481853e-35, 0.00000000e+00, 6.63454063e-35,\n",
       "        0.00000000e+00, 1.10602006e-32, 0.00000000e+00, 0.00000000e+00,\n",
       "        0.00000000e+00, 4.98230523e-29, 0.00000000e+00, 0.00000000e+00,\n",
       "        0.00000000e+00, 0.00000000e+00, 0.00000000e+00, 5.25222358e-26,\n",
       "        0.00000000e+00, 5.51378023e-34, 0.00000000e+00, 8.85931506e-29,\n",
       "        0.00000000e+00, 5.58278867e-30, 0.00000000e+00, 0.00000000e+00,\n",
       "        0.00000000e+00, 0.00000000e+00, 0.00000000e+00, 0.00000000e+00,\n",
       "        7.27781347e-27, 2.58244034e-29, 0.00000000e+00, 1.01651337e-26,\n",
       "        0.00000000e+00, 2.69808445e-38, 3.33957177e-27, 9.40139351e-34,\n",
       "        0.00000000e+00, 1.56535322e-32, 2.54808186e-30, 0.00000000e+00,\n",
       "        2.33192689e-30, 0.00000000e+00, 4.62518939e-37, 0.00000000e+00,\n",
       "        0.00000000e+00, 0.00000000e+00, 0.00000000e+00, 0.00000000e+00],\n",
       "       [1.18193822e-23, 8.95805319e-10, 2.21668777e-12, 7.38173071e-07,\n",
       "        4.83144164e-01, 6.65846001e-09, 8.38979600e-18, 1.79367096e-04,\n",
       "        4.92388906e-04, 5.16183317e-01, 0.00000000e+00, 1.30961027e-37,\n",
       "        0.00000000e+00, 2.66515489e-23, 0.00000000e+00, 0.00000000e+00,\n",
       "        1.27460498e-32, 0.00000000e+00, 0.00000000e+00, 0.00000000e+00,\n",
       "        0.00000000e+00, 0.00000000e+00, 6.94426782e-28, 0.00000000e+00,\n",
       "        1.18164439e-32, 2.42554937e-31, 0.00000000e+00, 0.00000000e+00,\n",
       "        0.00000000e+00, 0.00000000e+00, 0.00000000e+00, 0.00000000e+00,\n",
       "        0.00000000e+00, 7.50855715e-32, 0.00000000e+00, 0.00000000e+00,\n",
       "        0.00000000e+00, 0.00000000e+00, 0.00000000e+00, 0.00000000e+00,\n",
       "        7.67524113e-34, 0.00000000e+00, 0.00000000e+00, 1.13892803e-32,\n",
       "        0.00000000e+00, 0.00000000e+00, 0.00000000e+00, 0.00000000e+00,\n",
       "        5.00774028e-37, 0.00000000e+00, 1.40240719e-33, 2.09908990e-31,\n",
       "        0.00000000e+00, 0.00000000e+00, 5.40109495e-33, 0.00000000e+00,\n",
       "        2.51592608e-31, 0.00000000e+00, 0.00000000e+00, 0.00000000e+00,\n",
       "        0.00000000e+00, 0.00000000e+00, 0.00000000e+00, 4.72459161e-35],\n",
       "       [1.02279940e-13, 9.05487057e-13, 5.93720573e-10, 6.10022033e-10,\n",
       "        3.13661531e-07, 7.33888950e-09, 1.54059321e-09, 9.79128254e-06,\n",
       "        4.43145004e-19, 9.99989867e-01, 3.64926921e-29, 0.00000000e+00,\n",
       "        0.00000000e+00, 4.77872828e-18, 4.34313393e-35, 1.75973636e-15,\n",
       "        6.88633508e-32, 3.95897057e-33, 0.00000000e+00, 2.04611618e-23,\n",
       "        9.30830920e-25, 8.62367482e-31, 4.34626868e-34, 0.00000000e+00,\n",
       "        9.93647256e-31, 1.24989283e-23, 0.00000000e+00, 1.05914183e-36,\n",
       "        0.00000000e+00, 3.67303703e-23, 0.00000000e+00, 0.00000000e+00,\n",
       "        2.80547414e-36, 0.00000000e+00, 2.63470791e-26, 1.33564320e-26,\n",
       "        4.35001077e-22, 4.09235052e-31, 3.99126508e-35, 5.03576382e-11,\n",
       "        0.00000000e+00, 2.44146617e-37, 3.25204887e-21, 0.00000000e+00,\n",
       "        0.00000000e+00, 3.67507661e-19, 6.85223265e-35, 3.40002607e-37,\n",
       "        3.43149183e-38, 2.15085043e-29, 0.00000000e+00, 2.95092315e-27,\n",
       "        2.32760953e-31, 1.29861845e-29, 0.00000000e+00, 1.67928548e-24,\n",
       "        9.13560402e-21, 0.00000000e+00, 7.52600598e-24, 7.30371645e-27,\n",
       "        4.29816713e-37, 1.84410249e-31, 7.73847515e-38, 0.00000000e+00],\n",
       "       [2.16282764e-03, 8.39280214e-16, 1.32687960e-03, 2.42295011e-14,\n",
       "        1.45588219e-01, 2.76234560e-02, 8.22959185e-01, 8.32391708e-12,\n",
       "        3.27532252e-05, 3.06641858e-04, 0.00000000e+00, 0.00000000e+00,\n",
       "        0.00000000e+00, 0.00000000e+00, 0.00000000e+00, 1.98206098e-31,\n",
       "        0.00000000e+00, 0.00000000e+00, 0.00000000e+00, 0.00000000e+00,\n",
       "        0.00000000e+00, 0.00000000e+00, 0.00000000e+00, 0.00000000e+00,\n",
       "        4.26044812e-36, 1.12309906e-36, 0.00000000e+00, 2.94452380e-37,\n",
       "        0.00000000e+00, 0.00000000e+00, 0.00000000e+00, 0.00000000e+00,\n",
       "        0.00000000e+00, 0.00000000e+00, 0.00000000e+00, 0.00000000e+00,\n",
       "        0.00000000e+00, 0.00000000e+00, 5.55324296e-27, 0.00000000e+00,\n",
       "        1.73685042e-29, 0.00000000e+00, 1.65123216e-20, 0.00000000e+00,\n",
       "        0.00000000e+00, 0.00000000e+00, 0.00000000e+00, 2.99817138e-36,\n",
       "        0.00000000e+00, 0.00000000e+00, 0.00000000e+00, 0.00000000e+00,\n",
       "        0.00000000e+00, 0.00000000e+00, 0.00000000e+00, 2.74478570e-30,\n",
       "        0.00000000e+00, 0.00000000e+00, 0.00000000e+00, 1.34035350e-29,\n",
       "        0.00000000e+00, 0.00000000e+00, 0.00000000e+00, 0.00000000e+00],\n",
       "       [8.52385902e-24, 1.21064231e-18, 4.07848439e-15, 5.12677412e-17,\n",
       "        1.49455026e-03, 1.48618531e-13, 5.49339712e-22, 4.73291802e-05,\n",
       "        7.35857094e-17, 9.98458147e-01, 0.00000000e+00, 0.00000000e+00,\n",
       "        0.00000000e+00, 1.97552130e-33, 0.00000000e+00, 0.00000000e+00,\n",
       "        0.00000000e+00, 0.00000000e+00, 0.00000000e+00, 0.00000000e+00,\n",
       "        0.00000000e+00, 0.00000000e+00, 0.00000000e+00, 0.00000000e+00,\n",
       "        0.00000000e+00, 0.00000000e+00, 0.00000000e+00, 0.00000000e+00,\n",
       "        0.00000000e+00, 0.00000000e+00, 0.00000000e+00, 0.00000000e+00,\n",
       "        0.00000000e+00, 0.00000000e+00, 0.00000000e+00, 0.00000000e+00,\n",
       "        0.00000000e+00, 0.00000000e+00, 0.00000000e+00, 0.00000000e+00,\n",
       "        0.00000000e+00, 0.00000000e+00, 0.00000000e+00, 0.00000000e+00,\n",
       "        0.00000000e+00, 0.00000000e+00, 0.00000000e+00, 0.00000000e+00,\n",
       "        0.00000000e+00, 0.00000000e+00, 0.00000000e+00, 0.00000000e+00,\n",
       "        0.00000000e+00, 0.00000000e+00, 0.00000000e+00, 0.00000000e+00,\n",
       "        9.71469398e-34, 0.00000000e+00, 0.00000000e+00, 0.00000000e+00,\n",
       "        0.00000000e+00, 0.00000000e+00, 0.00000000e+00, 0.00000000e+00]],\n",
       "      dtype=float32)"
      ]
     },
     "execution_count": 23,
     "metadata": {},
     "output_type": "execute_result"
    }
   ],
   "source": [
    "model.predict(test_image[:10])"
   ]
  },
  {
   "cell_type": "code",
   "execution_count": 24,
   "metadata": {},
   "outputs": [
    {
     "data": {
      "text/plain": [
       "array([7, 2, 1, 0, 4, 1, 9, 9, 6, 9], dtype=int64)"
      ]
     },
     "execution_count": 24,
     "metadata": {},
     "output_type": "execute_result"
    }
   ],
   "source": [
    "np.argmax(model.predict(test_image[:10]),axis=1)"
   ]
  },
  {
   "cell_type": "markdown",
   "metadata": {},
   "source": [
    "模型的优化"
   ]
  },
  {
   "cell_type": "code",
   "execution_count": 25,
   "metadata": {},
   "outputs": [],
   "source": [
    "model = keras.Sequential()\n",
    "model.add(layers.Flatten())#把它展平成二维的形式(60000,28,28)->(60000,28*28)\n",
    "model.add(layers.Dense(64,activation='relu'))\n",
    "model.add(layers.Dense(64,activation='relu'))\n",
    "model.add(layers.Dense(64,activation='relu'))\n",
    "model.add(layers.Dense(64,activation='softmax'))"
   ]
  },
  {
   "cell_type": "code",
   "execution_count": 26,
   "metadata": {},
   "outputs": [],
   "source": [
    "model.compile(optimizer='adam',loss='sparse_categorical_crossentropy',metrics=['acc'])"
   ]
  },
  {
   "cell_type": "code",
   "execution_count": 27,
   "metadata": {},
   "outputs": [
    {
     "name": "stdout",
     "output_type": "stream",
     "text": [
      "Epoch 1/50\n",
      "60000/60000 [==============================] - 1s 12us/step - loss: 3.9309 - acc: 0.5786\n",
      "Epoch 2/50\n",
      "60000/60000 [==============================] - 1s 10us/step - loss: 0.5283 - acc: 0.8551\n",
      "Epoch 3/50\n",
      "60000/60000 [==============================] - 1s 9us/step - loss: 0.3687 - acc: 0.8947\n",
      "Epoch 4/50\n",
      "60000/60000 [==============================] - 1s 9us/step - loss: 0.2970 - acc: 0.9132\n",
      "Epoch 5/50\n",
      "60000/60000 [==============================] - 1s 9us/step - loss: 0.2512 - acc: 0.9261\n",
      "Epoch 6/50\n",
      "60000/60000 [==============================] - 1s 9us/step - loss: 0.2222 - acc: 0.9341\n",
      "Epoch 7/50\n",
      "60000/60000 [==============================] - 1s 9us/step - loss: 0.1954 - acc: 0.9412\n",
      "Epoch 8/50\n",
      "60000/60000 [==============================] - 1s 9us/step - loss: 0.1773 - acc: 0.9459\n",
      "Epoch 9/50\n",
      "60000/60000 [==============================] - 1s 9us/step - loss: 0.1619 - acc: 0.9508\n",
      "Epoch 10/50\n",
      "60000/60000 [==============================] - 1s 8us/step - loss: 0.1487 - acc: 0.9548\n",
      "Epoch 11/50\n",
      "60000/60000 [==============================] - 1s 9us/step - loss: 0.1393 - acc: 0.9579\n",
      "Epoch 12/50\n",
      "60000/60000 [==============================] - 1s 8us/step - loss: 0.1280 - acc: 0.9612\n",
      "Epoch 13/50\n",
      "60000/60000 [==============================] - 1s 9us/step - loss: 0.1195 - acc: 0.9631\n",
      "Epoch 14/50\n",
      "60000/60000 [==============================] - 1s 9us/step - loss: 0.1135 - acc: 0.9645\n",
      "Epoch 15/50\n",
      "60000/60000 [==============================] - 1s 9us/step - loss: 0.1047 - acc: 0.9680\n",
      "Epoch 16/50\n",
      "60000/60000 [==============================] - 1s 8us/step - loss: 0.0992 - acc: 0.9700\n",
      "Epoch 17/50\n",
      "60000/60000 [==============================] - 1s 9us/step - loss: 0.0896 - acc: 0.9722\n",
      "Epoch 18/50\n",
      "60000/60000 [==============================] - 1s 8us/step - loss: 0.0860 - acc: 0.9732\n",
      "Epoch 19/50\n",
      "60000/60000 [==============================] - 1s 9us/step - loss: 0.0795 - acc: 0.9754\n",
      "Epoch 20/50\n",
      "60000/60000 [==============================] - 1s 9us/step - loss: 0.0758 - acc: 0.9764\n",
      "Epoch 21/50\n",
      "60000/60000 [==============================] - 1s 9us/step - loss: 0.0738 - acc: 0.9766\n",
      "Epoch 22/50\n",
      "60000/60000 [==============================] - 1s 9us/step - loss: 0.0675 - acc: 0.9787\n",
      "Epoch 23/50\n",
      "60000/60000 [==============================] - 1s 9us/step - loss: 0.0608 - acc: 0.9809\n",
      "Epoch 24/50\n",
      "60000/60000 [==============================] - 1s 9us/step - loss: 0.0580 - acc: 0.9818\n",
      "Epoch 25/50\n",
      "60000/60000 [==============================] - 1s 9us/step - loss: 0.0567 - acc: 0.9819\n",
      "Epoch 26/50\n",
      "60000/60000 [==============================] - 1s 9us/step - loss: 0.0536 - acc: 0.9834\n",
      "Epoch 27/50\n",
      "60000/60000 [==============================] - 1s 9us/step - loss: 0.0508 - acc: 0.9838\n",
      "Epoch 28/50\n",
      "60000/60000 [==============================] - 1s 9us/step - loss: 0.0500 - acc: 0.9840\n",
      "Epoch 29/50\n",
      "60000/60000 [==============================] - 1s 9us/step - loss: 0.0468 - acc: 0.9850\n",
      "Epoch 30/50\n",
      "60000/60000 [==============================] - 1s 9us/step - loss: 0.0452 - acc: 0.9856\n",
      "Epoch 31/50\n",
      "60000/60000 [==============================] - 1s 9us/step - loss: 0.0467 - acc: 0.9847\n",
      "Epoch 32/50\n",
      "60000/60000 [==============================] - 1s 9us/step - loss: 0.0417 - acc: 0.9861\n",
      "Epoch 33/50\n",
      "60000/60000 [==============================] - 1s 9us/step - loss: 0.0403 - acc: 0.9868\n",
      "Epoch 34/50\n",
      "60000/60000 [==============================] - 1s 9us/step - loss: 0.0402 - acc: 0.9870\n",
      "Epoch 35/50\n",
      "60000/60000 [==============================] - 1s 9us/step - loss: 0.0370 - acc: 0.9880\n",
      "Epoch 36/50\n",
      "60000/60000 [==============================] - 1s 9us/step - loss: 0.0370 - acc: 0.9877\n",
      "Epoch 37/50\n",
      "60000/60000 [==============================] - 1s 9us/step - loss: 0.0358 - acc: 0.9882\n",
      "Epoch 38/50\n",
      "60000/60000 [==============================] - 1s 9us/step - loss: 0.0387 - acc: 0.9878\n",
      "Epoch 39/50\n",
      "60000/60000 [==============================] - 1s 9us/step - loss: 0.0352 - acc: 0.9889\n",
      "Epoch 40/50\n",
      "60000/60000 [==============================] - 1s 11us/step - loss: 0.0345 - acc: 0.9886\n",
      "Epoch 41/50\n",
      "60000/60000 [==============================] - 1s 10us/step - loss: 0.0348 - acc: 0.9885\n",
      "Epoch 42/50\n",
      "60000/60000 [==============================] - 1s 9us/step - loss: 0.0304 - acc: 0.9899\n",
      "Epoch 43/50\n",
      "60000/60000 [==============================] - 1s 10us/step - loss: 0.0271 - acc: 0.9912\n",
      "Epoch 44/50\n",
      "60000/60000 [==============================] - 1s 9us/step - loss: 0.0251 - acc: 0.9920\n",
      "Epoch 45/50\n",
      "60000/60000 [==============================] - 1s 10us/step - loss: 0.0250 - acc: 0.9918\n",
      "Epoch 46/50\n",
      "60000/60000 [==============================] - 1s 10us/step - loss: 0.0299 - acc: 0.9902\n",
      "Epoch 47/50\n",
      "60000/60000 [==============================] - 1s 9us/step - loss: 0.0252 - acc: 0.9918\n",
      "Epoch 48/50\n",
      "60000/60000 [==============================] - 1s 9us/step - loss: 0.0314 - acc: 0.9898\n",
      "Epoch 49/50\n",
      "60000/60000 [==============================] - 1s 9us/step - loss: 0.0239 - acc: 0.9920\n",
      "Epoch 50/50\n",
      "60000/60000 [==============================] - 1s 9us/step - loss: 0.0269 - acc: 0.9912\n"
     ]
    },
    {
     "data": {
      "text/plain": [
       "<keras.callbacks.callbacks.History at 0x23755293fc8>"
      ]
     },
     "execution_count": 27,
     "metadata": {},
     "output_type": "execute_result"
    }
   ],
   "source": [
    "model.fit(train_image,train_label,epochs=50,batch_size=512)"
   ]
  },
  {
   "cell_type": "code",
   "execution_count": 28,
   "metadata": {},
   "outputs": [
    {
     "name": "stdout",
     "output_type": "stream",
     "text": [
      "10000/10000 [==============================] - 0s 22us/step\n"
     ]
    },
    {
     "data": {
      "text/plain": [
       "[0.2319115080270195, 0.9628999829292297]"
      ]
     },
     "execution_count": 28,
     "metadata": {},
     "output_type": "execute_result"
    }
   ],
   "source": [
    "model.evaluate(test_image,test_label)"
   ]
  },
  {
   "cell_type": "code",
   "execution_count": null,
   "metadata": {},
   "outputs": [],
   "source": []
  }
 ],
 "metadata": {
  "kernelspec": {
   "display_name": "Python 3",
   "language": "python",
   "name": "python3"
  },
  "language_info": {
   "codemirror_mode": {
    "name": "ipython",
    "version": 3
   },
   "file_extension": ".py",
   "mimetype": "text/x-python",
   "name": "python",
   "nbconvert_exporter": "python",
   "pygments_lexer": "ipython3",
   "version": "3.7.7"
  }
 },
 "nbformat": 4,
 "nbformat_minor": 4
}
